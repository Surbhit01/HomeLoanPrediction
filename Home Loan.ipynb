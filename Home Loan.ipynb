{
 "cells": [
  {
   "cell_type": "markdown",
   "id": "7752214c",
   "metadata": {},
   "source": [
    "### PROBLEM STATEMENT\n",
    "\n",
    "Dream Housing Finance company deals in all home loans. They have presence across all urban, semi urban and rural areas. Customer first applies for home loan and then the company validates the customer loan eligiblity. The company wants to automate the loan eligibility process (real time) based on customer detail provided while filling the online loan application form. The details which are required in the application form are - Gender, Marital Status, Education, Number of Dependents, Income, Loan Amount, Credit History and others. \n",
    "\n",
    "To automate this process, they have given a problem to identify the customers segments, those are eligible for loan amount so that they can specifically target these customers.\n"
   ]
  },
  {
   "cell_type": "markdown",
   "id": "4ce8a7e0",
   "metadata": {},
   "source": [
    "### Step 1: Read and understand the data"
   ]
  },
  {
   "cell_type": "code",
   "execution_count": 1,
   "id": "b49bc477",
   "metadata": {},
   "outputs": [],
   "source": [
    "#Import required libraries\n",
    "\n",
    "import pandas as pd\n",
    "import numpy as np\n",
    "import matplotlib.pyplot as plt\n",
    "import seaborn as sns\n",
    "from sklearn.preprocessing import OneHotEncoder\n",
    "from sklearn.ensemble import RandomForestClassifier\n",
    "from sklearn.preprocessing import LabelEncoder\n",
    "from sklearn.model_selection import train_test_split\n",
    "from sklearn.metrics import classification_report\n",
    "from sklearn.ensemble import HistGradientBoostingClassifier\n",
    "from sklearn.linear_model import LogisticRegression\n",
    "from sklearn import metrics"
   ]
  },
  {
   "cell_type": "code",
   "execution_count": 2,
   "id": "1759c8a2",
   "metadata": {},
   "outputs": [],
   "source": [
    "#Read train and test data\n",
    "\n",
    "df1 = pd.read_csv('data/loan sanction train.csv')\n",
    "df2 = pd.read_csv('data/loan sanction test.csv')"
   ]
  },
  {
   "cell_type": "code",
   "execution_count": 3,
   "id": "7a6a3863",
   "metadata": {},
   "outputs": [
    {
     "data": {
      "text/html": [
       "<div>\n",
       "<style scoped>\n",
       "    .dataframe tbody tr th:only-of-type {\n",
       "        vertical-align: middle;\n",
       "    }\n",
       "\n",
       "    .dataframe tbody tr th {\n",
       "        vertical-align: top;\n",
       "    }\n",
       "\n",
       "    .dataframe thead th {\n",
       "        text-align: right;\n",
       "    }\n",
       "</style>\n",
       "<table border=\"1\" class=\"dataframe\">\n",
       "  <thead>\n",
       "    <tr style=\"text-align: right;\">\n",
       "      <th></th>\n",
       "      <th>Loan_ID</th>\n",
       "      <th>Gender</th>\n",
       "      <th>Married</th>\n",
       "      <th>Dependents</th>\n",
       "      <th>Education</th>\n",
       "      <th>Self_Employed</th>\n",
       "      <th>ApplicantIncome</th>\n",
       "      <th>CoapplicantIncome</th>\n",
       "      <th>LoanAmount</th>\n",
       "      <th>Loan_Amount_Term</th>\n",
       "      <th>Credit_History</th>\n",
       "      <th>Property_Area</th>\n",
       "      <th>Loan_Status</th>\n",
       "    </tr>\n",
       "  </thead>\n",
       "  <tbody>\n",
       "    <tr>\n",
       "      <th>0</th>\n",
       "      <td>LP001002</td>\n",
       "      <td>Male</td>\n",
       "      <td>No</td>\n",
       "      <td>0</td>\n",
       "      <td>Graduate</td>\n",
       "      <td>No</td>\n",
       "      <td>5849</td>\n",
       "      <td>0.0</td>\n",
       "      <td>NaN</td>\n",
       "      <td>360.0</td>\n",
       "      <td>1.0</td>\n",
       "      <td>Urban</td>\n",
       "      <td>Y</td>\n",
       "    </tr>\n",
       "    <tr>\n",
       "      <th>1</th>\n",
       "      <td>LP001003</td>\n",
       "      <td>Male</td>\n",
       "      <td>Yes</td>\n",
       "      <td>1</td>\n",
       "      <td>Graduate</td>\n",
       "      <td>No</td>\n",
       "      <td>4583</td>\n",
       "      <td>1508.0</td>\n",
       "      <td>128.0</td>\n",
       "      <td>360.0</td>\n",
       "      <td>1.0</td>\n",
       "      <td>Rural</td>\n",
       "      <td>N</td>\n",
       "    </tr>\n",
       "    <tr>\n",
       "      <th>2</th>\n",
       "      <td>LP001005</td>\n",
       "      <td>Male</td>\n",
       "      <td>Yes</td>\n",
       "      <td>0</td>\n",
       "      <td>Graduate</td>\n",
       "      <td>Yes</td>\n",
       "      <td>3000</td>\n",
       "      <td>0.0</td>\n",
       "      <td>66.0</td>\n",
       "      <td>360.0</td>\n",
       "      <td>1.0</td>\n",
       "      <td>Urban</td>\n",
       "      <td>Y</td>\n",
       "    </tr>\n",
       "    <tr>\n",
       "      <th>3</th>\n",
       "      <td>LP001006</td>\n",
       "      <td>Male</td>\n",
       "      <td>Yes</td>\n",
       "      <td>0</td>\n",
       "      <td>Not Graduate</td>\n",
       "      <td>No</td>\n",
       "      <td>2583</td>\n",
       "      <td>2358.0</td>\n",
       "      <td>120.0</td>\n",
       "      <td>360.0</td>\n",
       "      <td>1.0</td>\n",
       "      <td>Urban</td>\n",
       "      <td>Y</td>\n",
       "    </tr>\n",
       "    <tr>\n",
       "      <th>4</th>\n",
       "      <td>LP001008</td>\n",
       "      <td>Male</td>\n",
       "      <td>No</td>\n",
       "      <td>0</td>\n",
       "      <td>Graduate</td>\n",
       "      <td>No</td>\n",
       "      <td>6000</td>\n",
       "      <td>0.0</td>\n",
       "      <td>141.0</td>\n",
       "      <td>360.0</td>\n",
       "      <td>1.0</td>\n",
       "      <td>Urban</td>\n",
       "      <td>Y</td>\n",
       "    </tr>\n",
       "    <tr>\n",
       "      <th>...</th>\n",
       "      <td>...</td>\n",
       "      <td>...</td>\n",
       "      <td>...</td>\n",
       "      <td>...</td>\n",
       "      <td>...</td>\n",
       "      <td>...</td>\n",
       "      <td>...</td>\n",
       "      <td>...</td>\n",
       "      <td>...</td>\n",
       "      <td>...</td>\n",
       "      <td>...</td>\n",
       "      <td>...</td>\n",
       "      <td>...</td>\n",
       "    </tr>\n",
       "    <tr>\n",
       "      <th>609</th>\n",
       "      <td>LP002978</td>\n",
       "      <td>Female</td>\n",
       "      <td>No</td>\n",
       "      <td>0</td>\n",
       "      <td>Graduate</td>\n",
       "      <td>No</td>\n",
       "      <td>2900</td>\n",
       "      <td>0.0</td>\n",
       "      <td>71.0</td>\n",
       "      <td>360.0</td>\n",
       "      <td>1.0</td>\n",
       "      <td>Rural</td>\n",
       "      <td>Y</td>\n",
       "    </tr>\n",
       "    <tr>\n",
       "      <th>610</th>\n",
       "      <td>LP002979</td>\n",
       "      <td>Male</td>\n",
       "      <td>Yes</td>\n",
       "      <td>3+</td>\n",
       "      <td>Graduate</td>\n",
       "      <td>No</td>\n",
       "      <td>4106</td>\n",
       "      <td>0.0</td>\n",
       "      <td>40.0</td>\n",
       "      <td>180.0</td>\n",
       "      <td>1.0</td>\n",
       "      <td>Rural</td>\n",
       "      <td>Y</td>\n",
       "    </tr>\n",
       "    <tr>\n",
       "      <th>611</th>\n",
       "      <td>LP002983</td>\n",
       "      <td>Male</td>\n",
       "      <td>Yes</td>\n",
       "      <td>1</td>\n",
       "      <td>Graduate</td>\n",
       "      <td>No</td>\n",
       "      <td>8072</td>\n",
       "      <td>240.0</td>\n",
       "      <td>253.0</td>\n",
       "      <td>360.0</td>\n",
       "      <td>1.0</td>\n",
       "      <td>Urban</td>\n",
       "      <td>Y</td>\n",
       "    </tr>\n",
       "    <tr>\n",
       "      <th>612</th>\n",
       "      <td>LP002984</td>\n",
       "      <td>Male</td>\n",
       "      <td>Yes</td>\n",
       "      <td>2</td>\n",
       "      <td>Graduate</td>\n",
       "      <td>No</td>\n",
       "      <td>7583</td>\n",
       "      <td>0.0</td>\n",
       "      <td>187.0</td>\n",
       "      <td>360.0</td>\n",
       "      <td>1.0</td>\n",
       "      <td>Urban</td>\n",
       "      <td>Y</td>\n",
       "    </tr>\n",
       "    <tr>\n",
       "      <th>613</th>\n",
       "      <td>LP002990</td>\n",
       "      <td>Female</td>\n",
       "      <td>No</td>\n",
       "      <td>0</td>\n",
       "      <td>Graduate</td>\n",
       "      <td>Yes</td>\n",
       "      <td>4583</td>\n",
       "      <td>0.0</td>\n",
       "      <td>133.0</td>\n",
       "      <td>360.0</td>\n",
       "      <td>0.0</td>\n",
       "      <td>Semiurban</td>\n",
       "      <td>N</td>\n",
       "    </tr>\n",
       "  </tbody>\n",
       "</table>\n",
       "<p>614 rows × 13 columns</p>\n",
       "</div>"
      ],
      "text/plain": [
       "      Loan_ID  Gender Married Dependents     Education Self_Employed  \\\n",
       "0    LP001002    Male      No          0      Graduate            No   \n",
       "1    LP001003    Male     Yes          1      Graduate            No   \n",
       "2    LP001005    Male     Yes          0      Graduate           Yes   \n",
       "3    LP001006    Male     Yes          0  Not Graduate            No   \n",
       "4    LP001008    Male      No          0      Graduate            No   \n",
       "..        ...     ...     ...        ...           ...           ...   \n",
       "609  LP002978  Female      No          0      Graduate            No   \n",
       "610  LP002979    Male     Yes         3+      Graduate            No   \n",
       "611  LP002983    Male     Yes          1      Graduate            No   \n",
       "612  LP002984    Male     Yes          2      Graduate            No   \n",
       "613  LP002990  Female      No          0      Graduate           Yes   \n",
       "\n",
       "     ApplicantIncome  CoapplicantIncome  LoanAmount  Loan_Amount_Term  \\\n",
       "0               5849                0.0         NaN             360.0   \n",
       "1               4583             1508.0       128.0             360.0   \n",
       "2               3000                0.0        66.0             360.0   \n",
       "3               2583             2358.0       120.0             360.0   \n",
       "4               6000                0.0       141.0             360.0   \n",
       "..               ...                ...         ...               ...   \n",
       "609             2900                0.0        71.0             360.0   \n",
       "610             4106                0.0        40.0             180.0   \n",
       "611             8072              240.0       253.0             360.0   \n",
       "612             7583                0.0       187.0             360.0   \n",
       "613             4583                0.0       133.0             360.0   \n",
       "\n",
       "     Credit_History Property_Area Loan_Status  \n",
       "0               1.0         Urban           Y  \n",
       "1               1.0         Rural           N  \n",
       "2               1.0         Urban           Y  \n",
       "3               1.0         Urban           Y  \n",
       "4               1.0         Urban           Y  \n",
       "..              ...           ...         ...  \n",
       "609             1.0         Rural           Y  \n",
       "610             1.0         Rural           Y  \n",
       "611             1.0         Urban           Y  \n",
       "612             1.0         Urban           Y  \n",
       "613             0.0     Semiurban           N  \n",
       "\n",
       "[614 rows x 13 columns]"
      ]
     },
     "execution_count": 3,
     "metadata": {},
     "output_type": "execute_result"
    }
   ],
   "source": [
    "df1"
   ]
  },
  {
   "cell_type": "code",
   "execution_count": 4,
   "id": "e0ef50f4",
   "metadata": {},
   "outputs": [
    {
     "name": "stdout",
     "output_type": "stream",
     "text": [
      "<class 'pandas.core.frame.DataFrame'>\n",
      "RangeIndex: 614 entries, 0 to 613\n",
      "Data columns (total 13 columns):\n",
      " #   Column             Non-Null Count  Dtype  \n",
      "---  ------             --------------  -----  \n",
      " 0   Loan_ID            614 non-null    object \n",
      " 1   Gender             601 non-null    object \n",
      " 2   Married            611 non-null    object \n",
      " 3   Dependents         599 non-null    object \n",
      " 4   Education          614 non-null    object \n",
      " 5   Self_Employed      582 non-null    object \n",
      " 6   ApplicantIncome    614 non-null    int64  \n",
      " 7   CoapplicantIncome  614 non-null    float64\n",
      " 8   LoanAmount         592 non-null    float64\n",
      " 9   Loan_Amount_Term   600 non-null    float64\n",
      " 10  Credit_History     564 non-null    float64\n",
      " 11  Property_Area      614 non-null    object \n",
      " 12  Loan_Status        614 non-null    object \n",
      "dtypes: float64(4), int64(1), object(8)\n",
      "memory usage: 62.5+ KB\n"
     ]
    }
   ],
   "source": [
    "df1.info()"
   ]
  },
  {
   "cell_type": "markdown",
   "id": "428cccd9",
   "metadata": {},
   "source": [
    "Here we have 12 independent variables and 1 dependent variable (Loan_Status)"
   ]
  },
  {
   "cell_type": "code",
   "execution_count": 5,
   "id": "e77f2ff9",
   "metadata": {},
   "outputs": [
    {
     "data": {
      "text/plain": [
       "Loan_ID               0\n",
       "Gender               13\n",
       "Married               3\n",
       "Dependents           15\n",
       "Education             0\n",
       "Self_Employed        32\n",
       "ApplicantIncome       0\n",
       "CoapplicantIncome     0\n",
       "LoanAmount           22\n",
       "Loan_Amount_Term     14\n",
       "Credit_History       50\n",
       "Property_Area         0\n",
       "Loan_Status           0\n",
       "dtype: int64"
      ]
     },
     "execution_count": 5,
     "metadata": {},
     "output_type": "execute_result"
    }
   ],
   "source": [
    "#Check for null values\n",
    "df1.isnull().sum()"
   ]
  },
  {
   "cell_type": "code",
   "execution_count": 6,
   "id": "f1be2ea0",
   "metadata": {},
   "outputs": [
    {
     "name": "stdout",
     "output_type": "stream",
     "text": [
      "Numerical columns:  Index(['ApplicantIncome', 'CoapplicantIncome', 'LoanAmount',\n",
      "       'Loan_Amount_Term', 'Credit_History'],\n",
      "      dtype='object')\n"
     ]
    }
   ],
   "source": [
    "#List of numerical columns\n",
    "\n",
    "numerical_cols = df1.select_dtypes([np.number]).columns\n",
    "print('Numerical columns: ', numerical_cols)"
   ]
  },
  {
   "cell_type": "code",
   "execution_count": 7,
   "id": "c269f7b3",
   "metadata": {},
   "outputs": [
    {
     "name": "stdout",
     "output_type": "stream",
     "text": [
      "Categorical columns:  Index(['Gender', 'Married', 'Dependents', 'Education', 'Self_Employed',\n",
      "       'Property_Area'],\n",
      "      dtype='object')\n"
     ]
    }
   ],
   "source": [
    "#List of categorical columns\n",
    "\n",
    "categorical_cols = df1.select_dtypes('object').drop(['Loan_ID', 'Loan_Status'],axis=1).columns\n",
    "print('Categorical columns: ', categorical_cols)"
   ]
  },
  {
   "cell_type": "markdown",
   "id": "2fb77d49",
   "metadata": {},
   "source": [
    "**Analysing the distribution of numerical features for all applicants in cases when loan is accepted and rejected**\n",
    "\n",
    "Numerical features include:\n",
    "* Applicant Income\n",
    "* Co Applicant Income\n",
    "* Loan Amount\n",
    "* Loan Amount Term"
   ]
  },
  {
   "cell_type": "code",
   "execution_count": 8,
   "id": "22c7db0e",
   "metadata": {},
   "outputs": [
    {
     "data": {
      "image/png": "[encoded data removed]",
      "text/plain": [
       "<Figure size 864x432 with 1 Axes>"
      ]
     },
     "metadata": {
      "needs_background": "light"
     },
     "output_type": "display_data"
    },
    {
     "data": {
      "image/png": "[encoded data removed]",
      "text/plain": [
       "<Figure size 864x432 with 1 Axes>"
      ]
     },
     "metadata": {
      "needs_background": "light"
     },
     "output_type": "display_data"
    },
    {
     "data": {
      "image/png": "[encoded data removed]",
      "text/plain": [
       "<Figure size 864x432 with 1 Axes>"
      ]
     },
     "metadata": {
      "needs_background": "light"
     },
     "output_type": "display_data"
    },
    {
     "data": {
      "image/png": "[encoded data removed]",
      "text/plain": [
       "<Figure size 864x432 with 1 Axes>"
      ]
     },
     "metadata": {
      "needs_background": "light"
     },
     "output_type": "display_data"
    }
   ],
   "source": [
    "#Numerical feature vs loan status\n",
    "\n",
    "for nc in numerical_cols:\n",
    "    if nc == 'Credit_History':\n",
    "        continue\n",
    "    plt.figure(figsize=(12,6))\n",
    "    sns.kdeplot(data=df1,x=nc,hue='Loan_Status',shade=True)\n",
    "    plt.show()"
   ]
  },
  {
   "cell_type": "markdown",
   "id": "3a2a04ea",
   "metadata": {},
   "source": [
    "**INFERENCE**\n",
    "* Majority of the applicants have income within 15000\n",
    "* Majority of the co applicants have income within 8000\n",
    "* Majority of the applicants have loan amount within 200\n",
    "* Majority of the applicants have loan term amount between 300 and 400"
   ]
  },
  {
   "cell_type": "code",
   "execution_count": 9,
   "id": "10f3de93",
   "metadata": {},
   "outputs": [
    {
     "data": {
      "image/png": "[encoded data removed]",
      "text/plain": [
       "<Figure size 360x360 with 1 Axes>"
      ]
     },
     "metadata": {
      "needs_background": "light"
     },
     "output_type": "display_data"
    }
   ],
   "source": [
    "#Credit history and loan status count in cases when loan is accepted and rejected\n",
    "\n",
    "plt.figure(figsize=(5,5))\n",
    "sns.histplot(data=df1,x='Credit_History',hue='Loan_Status',multiple='stack')\n",
    "plt.show()"
   ]
  },
  {
   "cell_type": "markdown",
   "id": "49118080",
   "metadata": {},
   "source": [
    "**INFERENCE**\n",
    "* Majority of the people with credit history = 1 have got their loan approved\n",
    "* Very less people with credit history = 0 have got their loan approved "
   ]
  },
  {
   "cell_type": "markdown",
   "id": "b1690bd4",
   "metadata": {},
   "source": [
    "**Analyzing the distribution of categorical features in cases when loan is accepted and rejected**\n",
    "\n",
    "Categorical features include:\n",
    "* Gender\n",
    "* Married\n",
    "* Number of Dependents\n",
    "* Education\n",
    "* Self Employeed\n",
    "* Property Area"
   ]
  },
  {
   "cell_type": "code",
   "execution_count": 10,
   "id": "0f7b9709",
   "metadata": {},
   "outputs": [
    {
     "data": {
      "image/png": "[encoded data removed]",
      "text/plain": [
       "<Figure size 1080x432 with 1 Axes>"
      ]
     },
     "metadata": {
      "needs_background": "light"
     },
     "output_type": "display_data"
    },
    {
     "data": {
      "image/png": "[encoded data removed]",
      "text/plain": [
       "<Figure size 1080x432 with 1 Axes>"
      ]
     },
     "metadata": {
      "needs_background": "light"
     },
     "output_type": "display_data"
    },
    {
     "data": {
      "image/png": "[encoded data removed]",
      "text/plain": [
       "<Figure size 1080x432 with 1 Axes>"
      ]
     },
     "metadata": {
      "needs_background": "light"
     },
     "output_type": "display_data"
    },
    {
     "data": {
      "image/png": "[encoded data removed]",
      "text/plain": [
       "<Figure size 1080x432 with 1 Axes>"
      ]
     },
     "metadata": {
      "needs_background": "light"
     },
     "output_type": "display_data"
    },
    {
     "data": {
      "image/png": "[encoded data removed]",
      "text/plain": [
       "<Figure size 1080x432 with 1 Axes>"
      ]
     },
     "metadata": {
      "needs_background": "light"
     },
     "output_type": "display_data"
    },
    {
     "data": {
      "image/png": "[encoded data removed]",
      "text/plain": [
       "<Figure size 1080x432 with 1 Axes>"
      ]
     },
     "metadata": {
      "needs_background": "light"
     },
     "output_type": "display_data"
    }
   ],
   "source": [
    "#Categorical feature vs loan status\n",
    "\n",
    "for cc in categorical_cols:\n",
    "    plt.figure(figsize=(15,6))\n",
    "    sns.countplot(data=df1,x=cc,hue='Loan_Status')\n",
    "    plt.title('Count plot of {} ~ loan status'.format(cc))\n",
    "    plt.show()"
   ]
  },
  {
   "cell_type": "markdown",
   "id": "ee93157a",
   "metadata": {},
   "source": [
    "## INFERNENCE\n",
    "\n",
    "### GENDER"
   ]
  },
  {
   "cell_type": "code",
   "execution_count": 13,
   "id": "a07446ef",
   "metadata": {},
   "outputs": [],
   "source": [
    "#Count of loan status (Y and N) for available gender\n",
    "def GenderVsLoanStatus(gender):\n",
    "    print('Total {} applicants: {}'.format(gender,df1[df1.Gender==gender].shape[0]))\n",
    "    print('{} applicants with loan approved: {}'.format(gender,df1[(df1.Gender==gender) & (df1.Loan_Status=='Y')].shape[0]))\n",
    "    print('{} applicants with loan not approved: {}'.format(gender,df1[(df1.Gender==gender) & (df1.Loan_Status=='N')].shape[0]))"
   ]
  },
  {
   "cell_type": "markdown",
   "id": "6c106049",
   "metadata": {},
   "source": [
    "**MALE APPLICANTS ~ LOAN STATUS**"
   ]
  },
  {
   "cell_type": "code",
   "execution_count": 14,
   "id": "de43e6ba",
   "metadata": {},
   "outputs": [
    {
     "name": "stdout",
     "output_type": "stream",
     "text": [
      "Total Male applicants: 489\n",
      "Male applicants with loan approved: 339\n",
      "Male applicants with loan not approved: 150\n"
     ]
    }
   ],
   "source": [
    "GenderVsLoanStatus('Male')"
   ]
  },
  {
   "cell_type": "markdown",
   "id": "9794da7e",
   "metadata": {},
   "source": [
    "**FEMALE APPLICANTS ~ LOAN STATUS**"
   ]
  },
  {
   "cell_type": "code",
   "execution_count": 15,
   "id": "3683225a",
   "metadata": {},
   "outputs": [
    {
     "name": "stdout",
     "output_type": "stream",
     "text": [
      "Total Female applicants: 112\n",
      "Female applicants with loan approved: 75\n",
      "Female applicants with loan not approved: 37\n"
     ]
    }
   ],
   "source": [
    "GenderVsLoanStatus('Female')"
   ]
  },
  {
   "cell_type": "markdown",
   "id": "de8612ad",
   "metadata": {},
   "source": [
    "### MARITAL STATUS"
   ]
  },
  {
   "cell_type": "code",
   "execution_count": 16,
   "id": "d8341c53",
   "metadata": {},
   "outputs": [],
   "source": [
    "#Count of loan status (Y and N) for available marital status\n",
    "def MaritalStatusVsLoanStatus(status):\n",
    "    print('Total applicants with married status {}: {}'.format(status,df1[df1.Married==status].shape[0]))\n",
    "    print('Applicants with marital status {} & loan approved: {}'.format(status,df1[(df1.Married==status) & (df1.Loan_Status=='Y')].shape[0]))\n",
    "    print('Applicants with marital status {} & loan not approved: {}'.format(status,df1[(df1.Married==status) & (df1.Loan_Status=='N')].shape[0]))"
   ]
  },
  {
   "cell_type": "markdown",
   "id": "06934077",
   "metadata": {},
   "source": [
    "**MARITAL STATUS YES APPLICANTS ~ LOAN STATUS**"
   ]
  },
  {
   "cell_type": "code",
   "execution_count": 17,
   "id": "b90ff630",
   "metadata": {},
   "outputs": [
    {
     "name": "stdout",
     "output_type": "stream",
     "text": [
      "Total applicants with married status Yes: 398\n",
      "Applicants with marital status Yes & loan approved: 285\n",
      "Applicants with marital status Yes & loan not approved: 113\n"
     ]
    }
   ],
   "source": [
    "MaritalStatusVsLoanStatus('Yes')"
   ]
  },
  {
   "cell_type": "markdown",
   "id": "4735aa1b",
   "metadata": {},
   "source": [
    "**MARITAL STATUS NO APPLICANTS ~ LOAN STATUS**"
   ]
  },
  {
   "cell_type": "code",
   "execution_count": 18,
   "id": "28fcede1",
   "metadata": {},
   "outputs": [
    {
     "name": "stdout",
     "output_type": "stream",
     "text": [
      "Total applicants with married status No: 213\n",
      "Applicants with marital status No & loan approved: 134\n",
      "Applicants with marital status No & loan not approved: 79\n"
     ]
    }
   ],
   "source": [
    "MaritalStatusVsLoanStatus('No')"
   ]
  },
  {
   "cell_type": "markdown",
   "id": "d0fd0e03",
   "metadata": {},
   "source": [
    "### DEPENDENTS"
   ]
  },
  {
   "cell_type": "code",
   "execution_count": 19,
   "id": "d4bac72e",
   "metadata": {},
   "outputs": [],
   "source": [
    "#Count of loan status (Y and N) for available dependents\n",
    "def DependentsStatusVsLoanStatus(dependents):\n",
    "    print('Total applicants with dependents {}: {}'.format(dependents,df1[df1.Dependents==dependents].shape[0]))\n",
    "    print('Applicants with dependents {} & loan approved: {}'.format(dependents,df1[(df1.Dependents==dependents) & (df1.Loan_Status=='Y')].shape[0]))\n",
    "    print('Applicants with dependents {} & loan not approved: {}'.format(dependents,df1[(df1.Dependents==dependents) & (df1.Loan_Status=='N')].shape[0]))"
   ]
  },
  {
   "cell_type": "markdown",
   "id": "d36f9fb1",
   "metadata": {},
   "source": [
    "**0 DEPENDENTS ~ LOAN STATUS**"
   ]
  },
  {
   "cell_type": "code",
   "execution_count": 20,
   "id": "8572382a",
   "metadata": {},
   "outputs": [
    {
     "name": "stdout",
     "output_type": "stream",
     "text": [
      "Total applicants with dependents 0: 345\n",
      "Applicants with dependents 0 & loan approved: 238\n",
      "Applicants with dependents 0 & loan not approved: 107\n"
     ]
    }
   ],
   "source": [
    "DependentsStatusVsLoanStatus('0')"
   ]
  },
  {
   "cell_type": "markdown",
   "id": "7ecdbd8e",
   "metadata": {},
   "source": [
    "**1 DEPENDENT ~ LOAN STATUS**"
   ]
  },
  {
   "cell_type": "code",
   "execution_count": 21,
   "id": "f25ea1cd",
   "metadata": {},
   "outputs": [
    {
     "name": "stdout",
     "output_type": "stream",
     "text": [
      "Total applicants with dependents 1: 102\n",
      "Applicants with dependents 1 & loan approved: 66\n",
      "Applicants with dependents 1 & loan not approved: 36\n"
     ]
    }
   ],
   "source": [
    "DependentsStatusVsLoanStatus('1')"
   ]
  },
  {
   "cell_type": "markdown",
   "id": "e1c14ecd",
   "metadata": {},
   "source": [
    "**2 DEPENDENTS ~ LOAN STATUS**"
   ]
  },
  {
   "cell_type": "code",
   "execution_count": 22,
   "id": "74cf19b8",
   "metadata": {},
   "outputs": [
    {
     "name": "stdout",
     "output_type": "stream",
     "text": [
      "Total applicants with dependents 2: 101\n",
      "Applicants with dependents 2 & loan approved: 76\n",
      "Applicants with dependents 2 & loan not approved: 25\n"
     ]
    }
   ],
   "source": [
    "DependentsStatusVsLoanStatus('2')"
   ]
  },
  {
   "cell_type": "markdown",
   "id": "46f02b00",
   "metadata": {},
   "source": [
    "**3+ DEPENDENTS ~ LOAN STATUS**"
   ]
  },
  {
   "cell_type": "code",
   "execution_count": 23,
   "id": "eb0eb5e6",
   "metadata": {},
   "outputs": [
    {
     "name": "stdout",
     "output_type": "stream",
     "text": [
      "Total applicants with dependents 3+: 51\n",
      "Applicants with dependents 3+ & loan approved: 33\n",
      "Applicants with dependents 3+ & loan not approved: 18\n"
     ]
    }
   ],
   "source": [
    "DependentsStatusVsLoanStatus('3+')"
   ]
  },
  {
   "cell_type": "markdown",
   "id": "7a3e1cd8",
   "metadata": {},
   "source": [
    "### EDUCATION"
   ]
  },
  {
   "cell_type": "code",
   "execution_count": 24,
   "id": "94d54dd5",
   "metadata": {},
   "outputs": [],
   "source": [
    "#Count of loan status (Y and N) for available education status\n",
    "def EducationStatusVsLoanStatus(edu):\n",
    "    print('Total applicants with Education {}: {}'.format(edu,df1[df1.Education==edu].shape[0]))\n",
    "    print('Applicants with Education {} & loan approved: {}'.format(edu,df1[(df1.Education==edu) & (df1.Loan_Status=='Y')].shape[0]))\n",
    "    print('Applicants with Education {} & loan not approved: {}'.format(edu,df1[(df1.Education==edu) & (df1.Loan_Status=='N')].shape[0]))"
   ]
  },
  {
   "cell_type": "markdown",
   "id": "023fc450",
   "metadata": {},
   "source": [
    "**GRADUATE EDUCATION ~ LOAN STATUS**"
   ]
  },
  {
   "cell_type": "code",
   "execution_count": 25,
   "id": "953937a3",
   "metadata": {},
   "outputs": [
    {
     "name": "stdout",
     "output_type": "stream",
     "text": [
      "Total applicants with Education Graduate: 480\n",
      "Applicants with Education Graduate & loan approved: 340\n",
      "Applicants with Education Graduate & loan not approved: 140\n"
     ]
    }
   ],
   "source": [
    "EducationStatusVsLoanStatus('Graduate')"
   ]
  },
  {
   "cell_type": "markdown",
   "id": "e9df1432",
   "metadata": {},
   "source": [
    "**NOT GRADUATE EDUCATION ~ LOAN STATUS**"
   ]
  },
  {
   "cell_type": "code",
   "execution_count": 26,
   "id": "e60f6f22",
   "metadata": {},
   "outputs": [
    {
     "name": "stdout",
     "output_type": "stream",
     "text": [
      "Total applicants with Education Not Graduate: 134\n",
      "Applicants with Education Not Graduate & loan approved: 82\n",
      "Applicants with Education Not Graduate & loan not approved: 52\n"
     ]
    }
   ],
   "source": [
    "EducationStatusVsLoanStatus('Not Graduate')"
   ]
  },
  {
   "cell_type": "markdown",
   "id": "f0905022",
   "metadata": {},
   "source": [
    "### SELF EMPLOYED"
   ]
  },
  {
   "cell_type": "code",
   "execution_count": 27,
   "id": "8217bb1f",
   "metadata": {},
   "outputs": [],
   "source": [
    "#Count of loan status (Y and N) for available self employed status\n",
    "def SelfEmployedStatusVsLoanStatus(selfEmp):\n",
    "    print('Total applicants with Self Employed status {}: {}'.format(selfEmp,df1[df1.Self_Employed==selfEmp].shape[0]))\n",
    "    print('Applicants with Self Employed status {} & loan approved: {}'.format(selfEmp,df1[(df1.Self_Employed==selfEmp) & (df1.Loan_Status=='Y')].shape[0]))\n",
    "    print('Applicants with Self Employed status {} & loan not approved: {}'.format(selfEmp,df1[(df1.Self_Employed==selfEmp) & (df1.Loan_Status=='N')].shape[0]))"
   ]
  },
  {
   "cell_type": "markdown",
   "id": "2ca94b21",
   "metadata": {},
   "source": [
    "**SELF EMPLOYED STATUS YES ~ LOAN STATUS**"
   ]
  },
  {
   "cell_type": "code",
   "execution_count": 28,
   "id": "f71a203a",
   "metadata": {},
   "outputs": [
    {
     "name": "stdout",
     "output_type": "stream",
     "text": [
      "Total applicants with Self Employed status Yes: 82\n",
      "Applicants with Self Employed status Yes & loan approved: 56\n",
      "Applicants with Self Employed status Yes & loan not approved: 26\n"
     ]
    }
   ],
   "source": [
    "SelfEmployedStatusVsLoanStatus('Yes')"
   ]
  },
  {
   "cell_type": "markdown",
   "id": "f81435ba",
   "metadata": {},
   "source": [
    "**SELF EMPLOYED STATUS NO ~ LOAN STATUS**"
   ]
  },
  {
   "cell_type": "code",
   "execution_count": 29,
   "id": "04c7cd83",
   "metadata": {},
   "outputs": [
    {
     "name": "stdout",
     "output_type": "stream",
     "text": [
      "Total applicants with Self Employed status No: 500\n",
      "Applicants with Self Employed status No & loan approved: 343\n",
      "Applicants with Self Employed status No & loan not approved: 157\n"
     ]
    }
   ],
   "source": [
    "SelfEmployedStatusVsLoanStatus('No')"
   ]
  },
  {
   "cell_type": "markdown",
   "id": "108175d0",
   "metadata": {},
   "source": [
    "### PROPERTY TYPE"
   ]
  },
  {
   "cell_type": "code",
   "execution_count": 30,
   "id": "145b78ad",
   "metadata": {},
   "outputs": [],
   "source": [
    "#Count of loan status (Y and N) for available property types\n",
    "def PropertyAreaTypeVsLoanStatus(propType):\n",
    "    print('Total applicants with Property Area Type {}: {}'.format(propType,df1[df1.Property_Area==propType].shape[0]))\n",
    "    print('Applicants with Property Area Type {} & loan approved: {}'.format(propType,df1[(df1.Property_Area==propType) & (df1.Loan_Status=='Y')].shape[0]))\n",
    "    print('Applicants with Property Area Type {} & loan not approved: {}'.format(propType,df1[(df1.Property_Area==propType) & (df1.Loan_Status=='N')].shape[0]))"
   ]
  },
  {
   "cell_type": "markdown",
   "id": "49b32634",
   "metadata": {},
   "source": [
    "**URBAN PROPERTY AREA TYPE ~ LOAN STATUS**"
   ]
  },
  {
   "cell_type": "code",
   "execution_count": 31,
   "id": "2d048f00",
   "metadata": {},
   "outputs": [
    {
     "name": "stdout",
     "output_type": "stream",
     "text": [
      "Total applicants with Property Area Type Urban: 202\n",
      "Applicants with Property Area Type Urban & loan approved: 133\n",
      "Applicants with Property Area Type Urban & loan not approved: 69\n"
     ]
    }
   ],
   "source": [
    "PropertyAreaTypeVsLoanStatus('Urban')"
   ]
  },
  {
   "cell_type": "markdown",
   "id": "1b46a898",
   "metadata": {},
   "source": [
    "**RURAL PROPERTY AREA TYPE ~ LOAN STATUS**"
   ]
  },
  {
   "cell_type": "code",
   "execution_count": 32,
   "id": "8002c586",
   "metadata": {},
   "outputs": [
    {
     "name": "stdout",
     "output_type": "stream",
     "text": [
      "Total applicants with Property Area Type Rural: 179\n",
      "Applicants with Property Area Type Rural & loan approved: 110\n",
      "Applicants with Property Area Type Rural & loan not approved: 69\n"
     ]
    }
   ],
   "source": [
    "PropertyAreaTypeVsLoanStatus('Rural')"
   ]
  },
  {
   "cell_type": "markdown",
   "id": "7ee76be3",
   "metadata": {},
   "source": [
    "**SEMI URBAN PROPERTY AREA TYPE ~ LOAN STATUS**"
   ]
  },
  {
   "cell_type": "code",
   "execution_count": 33,
   "id": "07e5b555",
   "metadata": {},
   "outputs": [
    {
     "name": "stdout",
     "output_type": "stream",
     "text": [
      "Total applicants with Property Area Type Semiurban: 233\n",
      "Applicants with Property Area Type Semiurban & loan approved: 179\n",
      "Applicants with Property Area Type Semiurban & loan not approved: 54\n"
     ]
    }
   ],
   "source": [
    "PropertyAreaTypeVsLoanStatus('Semiurban')"
   ]
  },
  {
   "cell_type": "markdown",
   "id": "c899a1b4",
   "metadata": {},
   "source": [
    "### Step 2: Processing the data\n",
    "\n",
    "* 'Dependents column has a '3+' value. We'll modify it to 3 and convert all entries to int\n",
    "* Columns like Gender, Married, Education and Self employed have 2 values. We'll map it to 0 and 1\n",
    "* Properties column has 3 values - urban, semi urban and rural. We'll transform this using one hot encoding\n",
    "* Loan_ID is not significant here hence we'll drop it"
   ]
  },
  {
   "cell_type": "code",
   "execution_count": 34,
   "id": "80481e71",
   "metadata": {},
   "outputs": [],
   "source": [
    "#Processing the data\n",
    "def dataProcessing(df):\n",
    "    df = df.dropna()\n",
    "    \n",
    "    #Dependents as 3+ as a value, we'll replace it with 3 and covert the column to int\n",
    "    df['Dependents'] = df['Dependents'].replace('3+',3)\n",
    "    df['Dependents'] = df['Dependents'].astype(int)\n",
    "    \n",
    "    #Some columns have 2 values - Gender, Married, Education, Self_Employed. Converting them to binary format\n",
    "    df['Gender']=df['Gender'].map({'Male':1,'Female':0})\n",
    "    df['Married']=df['Married'].map({'Yes':1,'No':0})\n",
    "    df['Education']=df['Education'].map({'Graduate':1,'Not Graduate':0})\n",
    "    df['Self_Employed']=df['Self_Employed'].map({'Yes':1,'No':0})\n",
    "    \n",
    "    #Loan_ID is not important for us\n",
    "    df = df.drop('Loan_ID', axis=1)\n",
    "    \n",
    "    #One hot encoding Property_Area feature (Urban, Rural, Semiurban)\n",
    "    ohe = OneHotEncoder(sparse=False)\n",
    "    transformed = ohe.fit_transform(df[['Property_Area']])\n",
    "    \n",
    "    df[ohe.categories_[0]]=transformed\n",
    "    df=df.drop('Property_Area',axis=1)\n",
    "    \n",
    "    return df\n",
    "    \n",
    "    "
   ]
  },
  {
   "cell_type": "code",
   "execution_count": 35,
   "id": "3df73def",
   "metadata": {},
   "outputs": [
    {
     "name": "stderr",
     "output_type": "stream",
     "text": [
      "<ipython-input-34-02e072519538>:6: SettingWithCopyWarning: \n",
      "A value is trying to be set on a copy of a slice from a DataFrame.\n",
      "Try using .loc[row_indexer,col_indexer] = value instead\n",
      "\n",
      "See the caveats in the documentation: https://pandas.pydata.org/pandas-docs/stable/user_guide/indexing.html#returning-a-view-versus-a-copy\n",
      "  df['Dependents'] = df['Dependents'].replace('3+',3)\n",
      "<ipython-input-34-02e072519538>:7: SettingWithCopyWarning: \n",
      "A value is trying to be set on a copy of a slice from a DataFrame.\n",
      "Try using .loc[row_indexer,col_indexer] = value instead\n",
      "\n",
      "See the caveats in the documentation: https://pandas.pydata.org/pandas-docs/stable/user_guide/indexing.html#returning-a-view-versus-a-copy\n",
      "  df['Dependents'] = df['Dependents'].astype(int)\n",
      "<ipython-input-34-02e072519538>:10: SettingWithCopyWarning: \n",
      "A value is trying to be set on a copy of a slice from a DataFrame.\n",
      "Try using .loc[row_indexer,col_indexer] = value instead\n",
      "\n",
      "See the caveats in the documentation: https://pandas.pydata.org/pandas-docs/stable/user_guide/indexing.html#returning-a-view-versus-a-copy\n",
      "  df['Gender']=df['Gender'].map({'Male':1,'Female':0})\n",
      "<ipython-input-34-02e072519538>:11: SettingWithCopyWarning: \n",
      "A value is trying to be set on a copy of a slice from a DataFrame.\n",
      "Try using .loc[row_indexer,col_indexer] = value instead\n",
      "\n",
      "See the caveats in the documentation: https://pandas.pydata.org/pandas-docs/stable/user_guide/indexing.html#returning-a-view-versus-a-copy\n",
      "  df['Married']=df['Married'].map({'Yes':1,'No':0})\n",
      "<ipython-input-34-02e072519538>:12: SettingWithCopyWarning: \n",
      "A value is trying to be set on a copy of a slice from a DataFrame.\n",
      "Try using .loc[row_indexer,col_indexer] = value instead\n",
      "\n",
      "See the caveats in the documentation: https://pandas.pydata.org/pandas-docs/stable/user_guide/indexing.html#returning-a-view-versus-a-copy\n",
      "  df['Education']=df['Education'].map({'Graduate':1,'Not Graduate':0})\n",
      "<ipython-input-34-02e072519538>:13: SettingWithCopyWarning: \n",
      "A value is trying to be set on a copy of a slice from a DataFrame.\n",
      "Try using .loc[row_indexer,col_indexer] = value instead\n",
      "\n",
      "See the caveats in the documentation: https://pandas.pydata.org/pandas-docs/stable/user_guide/indexing.html#returning-a-view-versus-a-copy\n",
      "  df['Self_Employed']=df['Self_Employed'].map({'Yes':1,'No':0})\n"
     ]
    }
   ],
   "source": [
    "df_train = dataProcessing(df1)"
   ]
  },
  {
   "cell_type": "code",
   "execution_count": 36,
   "id": "f33892f3",
   "metadata": {},
   "outputs": [
    {
     "data": {
      "text/html": [
       "<div>\n",
       "<style scoped>\n",
       "    .dataframe tbody tr th:only-of-type {\n",
       "        vertical-align: middle;\n",
       "    }\n",
       "\n",
       "    .dataframe tbody tr th {\n",
       "        vertical-align: top;\n",
       "    }\n",
       "\n",
       "    .dataframe thead th {\n",
       "        text-align: right;\n",
       "    }\n",
       "</style>\n",
       "<table border=\"1\" class=\"dataframe\">\n",
       "  <thead>\n",
       "    <tr style=\"text-align: right;\">\n",
       "      <th></th>\n",
       "      <th>Gender</th>\n",
       "      <th>Married</th>\n",
       "      <th>Dependents</th>\n",
       "      <th>Education</th>\n",
       "      <th>Self_Employed</th>\n",
       "      <th>ApplicantIncome</th>\n",
       "      <th>CoapplicantIncome</th>\n",
       "      <th>LoanAmount</th>\n",
       "      <th>Loan_Amount_Term</th>\n",
       "      <th>Credit_History</th>\n",
       "      <th>Loan_Status</th>\n",
       "      <th>Rural</th>\n",
       "      <th>Semiurban</th>\n",
       "      <th>Urban</th>\n",
       "    </tr>\n",
       "  </thead>\n",
       "  <tbody>\n",
       "    <tr>\n",
       "      <th>1</th>\n",
       "      <td>1</td>\n",
       "      <td>1</td>\n",
       "      <td>1</td>\n",
       "      <td>1</td>\n",
       "      <td>0</td>\n",
       "      <td>4583</td>\n",
       "      <td>1508.0</td>\n",
       "      <td>128.0</td>\n",
       "      <td>360.0</td>\n",
       "      <td>1.0</td>\n",
       "      <td>N</td>\n",
       "      <td>1.0</td>\n",
       "      <td>0.0</td>\n",
       "      <td>0.0</td>\n",
       "    </tr>\n",
       "    <tr>\n",
       "      <th>2</th>\n",
       "      <td>1</td>\n",
       "      <td>1</td>\n",
       "      <td>0</td>\n",
       "      <td>1</td>\n",
       "      <td>1</td>\n",
       "      <td>3000</td>\n",
       "      <td>0.0</td>\n",
       "      <td>66.0</td>\n",
       "      <td>360.0</td>\n",
       "      <td>1.0</td>\n",
       "      <td>Y</td>\n",
       "      <td>0.0</td>\n",
       "      <td>0.0</td>\n",
       "      <td>1.0</td>\n",
       "    </tr>\n",
       "    <tr>\n",
       "      <th>3</th>\n",
       "      <td>1</td>\n",
       "      <td>1</td>\n",
       "      <td>0</td>\n",
       "      <td>0</td>\n",
       "      <td>0</td>\n",
       "      <td>2583</td>\n",
       "      <td>2358.0</td>\n",
       "      <td>120.0</td>\n",
       "      <td>360.0</td>\n",
       "      <td>1.0</td>\n",
       "      <td>Y</td>\n",
       "      <td>0.0</td>\n",
       "      <td>0.0</td>\n",
       "      <td>1.0</td>\n",
       "    </tr>\n",
       "    <tr>\n",
       "      <th>4</th>\n",
       "      <td>1</td>\n",
       "      <td>0</td>\n",
       "      <td>0</td>\n",
       "      <td>1</td>\n",
       "      <td>0</td>\n",
       "      <td>6000</td>\n",
       "      <td>0.0</td>\n",
       "      <td>141.0</td>\n",
       "      <td>360.0</td>\n",
       "      <td>1.0</td>\n",
       "      <td>Y</td>\n",
       "      <td>0.0</td>\n",
       "      <td>0.0</td>\n",
       "      <td>1.0</td>\n",
       "    </tr>\n",
       "    <tr>\n",
       "      <th>5</th>\n",
       "      <td>1</td>\n",
       "      <td>1</td>\n",
       "      <td>2</td>\n",
       "      <td>1</td>\n",
       "      <td>1</td>\n",
       "      <td>5417</td>\n",
       "      <td>4196.0</td>\n",
       "      <td>267.0</td>\n",
       "      <td>360.0</td>\n",
       "      <td>1.0</td>\n",
       "      <td>Y</td>\n",
       "      <td>0.0</td>\n",
       "      <td>0.0</td>\n",
       "      <td>1.0</td>\n",
       "    </tr>\n",
       "    <tr>\n",
       "      <th>...</th>\n",
       "      <td>...</td>\n",
       "      <td>...</td>\n",
       "      <td>...</td>\n",
       "      <td>...</td>\n",
       "      <td>...</td>\n",
       "      <td>...</td>\n",
       "      <td>...</td>\n",
       "      <td>...</td>\n",
       "      <td>...</td>\n",
       "      <td>...</td>\n",
       "      <td>...</td>\n",
       "      <td>...</td>\n",
       "      <td>...</td>\n",
       "      <td>...</td>\n",
       "    </tr>\n",
       "    <tr>\n",
       "      <th>609</th>\n",
       "      <td>0</td>\n",
       "      <td>0</td>\n",
       "      <td>0</td>\n",
       "      <td>1</td>\n",
       "      <td>0</td>\n",
       "      <td>2900</td>\n",
       "      <td>0.0</td>\n",
       "      <td>71.0</td>\n",
       "      <td>360.0</td>\n",
       "      <td>1.0</td>\n",
       "      <td>Y</td>\n",
       "      <td>1.0</td>\n",
       "      <td>0.0</td>\n",
       "      <td>0.0</td>\n",
       "    </tr>\n",
       "    <tr>\n",
       "      <th>610</th>\n",
       "      <td>1</td>\n",
       "      <td>1</td>\n",
       "      <td>3</td>\n",
       "      <td>1</td>\n",
       "      <td>0</td>\n",
       "      <td>4106</td>\n",
       "      <td>0.0</td>\n",
       "      <td>40.0</td>\n",
       "      <td>180.0</td>\n",
       "      <td>1.0</td>\n",
       "      <td>Y</td>\n",
       "      <td>1.0</td>\n",
       "      <td>0.0</td>\n",
       "      <td>0.0</td>\n",
       "    </tr>\n",
       "    <tr>\n",
       "      <th>611</th>\n",
       "      <td>1</td>\n",
       "      <td>1</td>\n",
       "      <td>1</td>\n",
       "      <td>1</td>\n",
       "      <td>0</td>\n",
       "      <td>8072</td>\n",
       "      <td>240.0</td>\n",
       "      <td>253.0</td>\n",
       "      <td>360.0</td>\n",
       "      <td>1.0</td>\n",
       "      <td>Y</td>\n",
       "      <td>0.0</td>\n",
       "      <td>0.0</td>\n",
       "      <td>1.0</td>\n",
       "    </tr>\n",
       "    <tr>\n",
       "      <th>612</th>\n",
       "      <td>1</td>\n",
       "      <td>1</td>\n",
       "      <td>2</td>\n",
       "      <td>1</td>\n",
       "      <td>0</td>\n",
       "      <td>7583</td>\n",
       "      <td>0.0</td>\n",
       "      <td>187.0</td>\n",
       "      <td>360.0</td>\n",
       "      <td>1.0</td>\n",
       "      <td>Y</td>\n",
       "      <td>0.0</td>\n",
       "      <td>0.0</td>\n",
       "      <td>1.0</td>\n",
       "    </tr>\n",
       "    <tr>\n",
       "      <th>613</th>\n",
       "      <td>0</td>\n",
       "      <td>0</td>\n",
       "      <td>0</td>\n",
       "      <td>1</td>\n",
       "      <td>1</td>\n",
       "      <td>4583</td>\n",
       "      <td>0.0</td>\n",
       "      <td>133.0</td>\n",
       "      <td>360.0</td>\n",
       "      <td>0.0</td>\n",
       "      <td>N</td>\n",
       "      <td>0.0</td>\n",
       "      <td>1.0</td>\n",
       "      <td>0.0</td>\n",
       "    </tr>\n",
       "  </tbody>\n",
       "</table>\n",
       "<p>480 rows × 14 columns</p>\n",
       "</div>"
      ],
      "text/plain": [
       "     Gender  Married  Dependents  Education  Self_Employed  ApplicantIncome  \\\n",
       "1         1        1           1          1              0             4583   \n",
       "2         1        1           0          1              1             3000   \n",
       "3         1        1           0          0              0             2583   \n",
       "4         1        0           0          1              0             6000   \n",
       "5         1        1           2          1              1             5417   \n",
       "..      ...      ...         ...        ...            ...              ...   \n",
       "609       0        0           0          1              0             2900   \n",
       "610       1        1           3          1              0             4106   \n",
       "611       1        1           1          1              0             8072   \n",
       "612       1        1           2          1              0             7583   \n",
       "613       0        0           0          1              1             4583   \n",
       "\n",
       "     CoapplicantIncome  LoanAmount  Loan_Amount_Term  Credit_History  \\\n",
       "1               1508.0       128.0             360.0             1.0   \n",
       "2                  0.0        66.0             360.0             1.0   \n",
       "3               2358.0       120.0             360.0             1.0   \n",
       "4                  0.0       141.0             360.0             1.0   \n",
       "5               4196.0       267.0             360.0             1.0   \n",
       "..                 ...         ...               ...             ...   \n",
       "609                0.0        71.0             360.0             1.0   \n",
       "610                0.0        40.0             180.0             1.0   \n",
       "611              240.0       253.0             360.0             1.0   \n",
       "612                0.0       187.0             360.0             1.0   \n",
       "613                0.0       133.0             360.0             0.0   \n",
       "\n",
       "    Loan_Status  Rural  Semiurban  Urban  \n",
       "1             N    1.0        0.0    0.0  \n",
       "2             Y    0.0        0.0    1.0  \n",
       "3             Y    0.0        0.0    1.0  \n",
       "4             Y    0.0        0.0    1.0  \n",
       "5             Y    0.0        0.0    1.0  \n",
       "..          ...    ...        ...    ...  \n",
       "609           Y    1.0        0.0    0.0  \n",
       "610           Y    1.0        0.0    0.0  \n",
       "611           Y    0.0        0.0    1.0  \n",
       "612           Y    0.0        0.0    1.0  \n",
       "613           N    0.0        1.0    0.0  \n",
       "\n",
       "[480 rows x 14 columns]"
      ]
     },
     "execution_count": 36,
     "metadata": {},
     "output_type": "execute_result"
    }
   ],
   "source": [
    "df_train"
   ]
  },
  {
   "cell_type": "code",
   "execution_count": 37,
   "id": "32d58a28",
   "metadata": {},
   "outputs": [
    {
     "data": {
      "text/html": [
       "<div>\n",
       "<style scoped>\n",
       "    .dataframe tbody tr th:only-of-type {\n",
       "        vertical-align: middle;\n",
       "    }\n",
       "\n",
       "    .dataframe tbody tr th {\n",
       "        vertical-align: top;\n",
       "    }\n",
       "\n",
       "    .dataframe thead th {\n",
       "        text-align: right;\n",
       "    }\n",
       "</style>\n",
       "<table border=\"1\" class=\"dataframe\">\n",
       "  <thead>\n",
       "    <tr style=\"text-align: right;\">\n",
       "      <th></th>\n",
       "      <th>Gender</th>\n",
       "      <th>Married</th>\n",
       "      <th>Dependents</th>\n",
       "      <th>Education</th>\n",
       "      <th>Self_Employed</th>\n",
       "      <th>ApplicantIncome</th>\n",
       "      <th>CoapplicantIncome</th>\n",
       "      <th>LoanAmount</th>\n",
       "      <th>Loan_Amount_Term</th>\n",
       "      <th>Credit_History</th>\n",
       "      <th>Loan_Status</th>\n",
       "      <th>Rural</th>\n",
       "      <th>Semiurban</th>\n",
       "      <th>Urban</th>\n",
       "    </tr>\n",
       "  </thead>\n",
       "  <tbody>\n",
       "    <tr>\n",
       "      <th>1</th>\n",
       "      <td>1</td>\n",
       "      <td>1</td>\n",
       "      <td>1</td>\n",
       "      <td>1</td>\n",
       "      <td>0</td>\n",
       "      <td>4583</td>\n",
       "      <td>1508.0</td>\n",
       "      <td>128.0</td>\n",
       "      <td>360.0</td>\n",
       "      <td>1.0</td>\n",
       "      <td>0</td>\n",
       "      <td>1.0</td>\n",
       "      <td>0.0</td>\n",
       "      <td>0.0</td>\n",
       "    </tr>\n",
       "    <tr>\n",
       "      <th>2</th>\n",
       "      <td>1</td>\n",
       "      <td>1</td>\n",
       "      <td>0</td>\n",
       "      <td>1</td>\n",
       "      <td>1</td>\n",
       "      <td>3000</td>\n",
       "      <td>0.0</td>\n",
       "      <td>66.0</td>\n",
       "      <td>360.0</td>\n",
       "      <td>1.0</td>\n",
       "      <td>1</td>\n",
       "      <td>0.0</td>\n",
       "      <td>0.0</td>\n",
       "      <td>1.0</td>\n",
       "    </tr>\n",
       "    <tr>\n",
       "      <th>3</th>\n",
       "      <td>1</td>\n",
       "      <td>1</td>\n",
       "      <td>0</td>\n",
       "      <td>0</td>\n",
       "      <td>0</td>\n",
       "      <td>2583</td>\n",
       "      <td>2358.0</td>\n",
       "      <td>120.0</td>\n",
       "      <td>360.0</td>\n",
       "      <td>1.0</td>\n",
       "      <td>1</td>\n",
       "      <td>0.0</td>\n",
       "      <td>0.0</td>\n",
       "      <td>1.0</td>\n",
       "    </tr>\n",
       "    <tr>\n",
       "      <th>4</th>\n",
       "      <td>1</td>\n",
       "      <td>0</td>\n",
       "      <td>0</td>\n",
       "      <td>1</td>\n",
       "      <td>0</td>\n",
       "      <td>6000</td>\n",
       "      <td>0.0</td>\n",
       "      <td>141.0</td>\n",
       "      <td>360.0</td>\n",
       "      <td>1.0</td>\n",
       "      <td>1</td>\n",
       "      <td>0.0</td>\n",
       "      <td>0.0</td>\n",
       "      <td>1.0</td>\n",
       "    </tr>\n",
       "    <tr>\n",
       "      <th>5</th>\n",
       "      <td>1</td>\n",
       "      <td>1</td>\n",
       "      <td>2</td>\n",
       "      <td>1</td>\n",
       "      <td>1</td>\n",
       "      <td>5417</td>\n",
       "      <td>4196.0</td>\n",
       "      <td>267.0</td>\n",
       "      <td>360.0</td>\n",
       "      <td>1.0</td>\n",
       "      <td>1</td>\n",
       "      <td>0.0</td>\n",
       "      <td>0.0</td>\n",
       "      <td>1.0</td>\n",
       "    </tr>\n",
       "  </tbody>\n",
       "</table>\n",
       "</div>"
      ],
      "text/plain": [
       "   Gender  Married  Dependents  Education  Self_Employed  ApplicantIncome  \\\n",
       "1       1        1           1          1              0             4583   \n",
       "2       1        1           0          1              1             3000   \n",
       "3       1        1           0          0              0             2583   \n",
       "4       1        0           0          1              0             6000   \n",
       "5       1        1           2          1              1             5417   \n",
       "\n",
       "   CoapplicantIncome  LoanAmount  Loan_Amount_Term  Credit_History  \\\n",
       "1             1508.0       128.0             360.0             1.0   \n",
       "2                0.0        66.0             360.0             1.0   \n",
       "3             2358.0       120.0             360.0             1.0   \n",
       "4                0.0       141.0             360.0             1.0   \n",
       "5             4196.0       267.0             360.0             1.0   \n",
       "\n",
       "   Loan_Status  Rural  Semiurban  Urban  \n",
       "1            0    1.0        0.0    0.0  \n",
       "2            1    0.0        0.0    1.0  \n",
       "3            1    0.0        0.0    1.0  \n",
       "4            1    0.0        0.0    1.0  \n",
       "5            1    0.0        0.0    1.0  "
      ]
     },
     "execution_count": 37,
     "metadata": {},
     "output_type": "execute_result"
    }
   ],
   "source": [
    "df_train['Loan_Status']=df_train['Loan_Status'].map({'Y':1,'N':0})\n",
    "df_train.head()"
   ]
  },
  {
   "cell_type": "code",
   "execution_count": 38,
   "id": "c45fde4a",
   "metadata": {},
   "outputs": [],
   "source": [
    "y = df_train['Loan_Status']"
   ]
  },
  {
   "cell_type": "code",
   "execution_count": 40,
   "id": "36c221ee",
   "metadata": {},
   "outputs": [],
   "source": [
    "X = df_train.drop('Loan_Status', axis=1)"
   ]
  },
  {
   "cell_type": "markdown",
   "id": "429876a0",
   "metadata": {},
   "source": [
    "**Train and test splitting. Test set is taken as 20% of total data**"
   ]
  },
  {
   "cell_type": "code",
   "execution_count": 41,
   "id": "7e51fbee",
   "metadata": {},
   "outputs": [],
   "source": [
    "X_train,X_val,y_train,y_val=train_test_split(X,y,test_size=0.2)"
   ]
  },
  {
   "cell_type": "code",
   "execution_count": 42,
   "id": "1dac0f7c",
   "metadata": {},
   "outputs": [
    {
     "name": "stdout",
     "output_type": "stream",
     "text": [
      "(384, 13)\n",
      "(96, 13)\n"
     ]
    }
   ],
   "source": [
    "print(X_train.shape)\n",
    "print(X_val.shape)"
   ]
  },
  {
   "cell_type": "markdown",
   "id": "063864c4",
   "metadata": {},
   "source": [
    "### Step 3: Model building "
   ]
  },
  {
   "cell_type": "code",
   "execution_count": 59,
   "id": "215d6b25",
   "metadata": {},
   "outputs": [
    {
     "name": "stdout",
     "output_type": "stream",
     "text": [
      "              precision    recall  f1-score   support\n",
      "\n",
      "           0       1.00      0.84      0.91       124\n",
      "           1       0.93      1.00      0.96       260\n",
      "\n",
      "    accuracy                           0.95       384\n",
      "   macro avg       0.96      0.92      0.94       384\n",
      "weighted avg       0.95      0.95      0.95       384\n",
      "\n"
     ]
    }
   ],
   "source": [
    "rf_model1 = RandomForestClassifier(n_estimators=500, max_depth=10)\n",
    "rf_model1.fit(X_train,y_train)\n",
    "model1_trainPred = rf_model1.predict(X_train)\n",
    "print(classification_report(y_train, model1_trainPred))"
   ]
  },
  {
   "cell_type": "code",
   "execution_count": 61,
   "id": "3b589cdd",
   "metadata": {},
   "outputs": [
    {
     "name": "stdout",
     "output_type": "stream",
     "text": [
      "              precision    recall  f1-score   support\n",
      "\n",
      "           0       0.87      0.54      0.67        24\n",
      "           1       0.86      0.97      0.92        72\n",
      "\n",
      "    accuracy                           0.86        96\n",
      "   macro avg       0.87      0.76      0.79        96\n",
      "weighted avg       0.86      0.86      0.85        96\n",
      "\n"
     ]
    }
   ],
   "source": [
    "model1_testPred = rf_model1.predict(X_val)\n",
    "print(classification_report(y_val, model1_testPred))"
   ]
  },
  {
   "cell_type": "code",
   "execution_count": 62,
   "id": "b944042e",
   "metadata": {},
   "outputs": [
    {
     "data": {
      "text/plain": [
       "13"
      ]
     },
     "execution_count": 62,
     "metadata": {},
     "output_type": "execute_result"
    }
   ],
   "source": [
    "len(X_train.columns)"
   ]
  },
  {
   "cell_type": "code",
   "execution_count": 46,
   "id": "fbe2afb5",
   "metadata": {},
   "outputs": [],
   "source": [
    "import pickle\n",
    "\n",
    "file = open('LoanPrediction.pkl', 'wb')\n",
    "\n",
    "# dump information to that file\n",
    "pickle.dump(rf_model1, file)"
   ]
  },
  {
   "cell_type": "code",
   "execution_count": 47,
   "id": "e9dff6c4",
   "metadata": {},
   "outputs": [
    {
     "data": {
      "text/plain": [
       "Index(['Gender', 'Married', 'Dependents', 'Education', 'Self_Employed',\n",
       "       'ApplicantIncome', 'CoapplicantIncome', 'LoanAmount',\n",
       "       'Loan_Amount_Term', 'Credit_History', 'Rural', 'Semiurban', 'Urban'],\n",
       "      dtype='object')"
      ]
     },
     "execution_count": 47,
     "metadata": {},
     "output_type": "execute_result"
    }
   ],
   "source": [
    "X_train.columns"
   ]
  },
  {
   "cell_type": "code",
   "execution_count": null,
   "id": "f9495c79",
   "metadata": {},
   "outputs": [],
   "source": []
  }
 ],
 "metadata": {
  "kernelspec": {
   "display_name": "Python 3",
   "language": "python",
   "name": "python3"
  },
  "language_info": {
   "codemirror_mode": {
    "name": "ipython",
    "version": 3
   },
   "file_extension": ".py",
   "mimetype": "text/x-python",
   "name": "python",
   "nbconvert_exporter": "python",
   "pygments_lexer": "ipython3",
   "version": "3.8.8"
  }
 },
 "nbformat": 4,
 "nbformat_minor": 5
}
